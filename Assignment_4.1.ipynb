{
 "cells": [
  {
   "cell_type": "code",
   "execution_count": 4,
   "metadata": {},
   "outputs": [
    {
     "name": "stdout",
     "output_type": "stream",
     "text": [
      "['Sachin', 'kumar', 'yuvaraj', 'Saravanan']\n"
     ]
    }
   ],
   "source": [
    "def filter_long_words(inlist,n):\n",
    "    outlist =[]\n",
    "    for x in inlist:\n",
    "        if len(x)>n:\n",
    "            outlist.append(x)    \n",
    "    return outlist\n",
    "inlist =['Sachin','kumar','yuvaraj','Saravanan']\n",
    "output = filter_long_words(inlist,4)\n",
    "print(output)"
   ]
  },
  {
   "cell_type": "code",
   "execution_count": null,
   "metadata": {},
   "outputs": [],
   "source": []
  }
 ],
 "metadata": {
  "kernelspec": {
   "display_name": "Python 3",
   "language": "python",
   "name": "python3"
  },
  "language_info": {
   "codemirror_mode": {
    "name": "ipython",
    "version": 3
   },
   "file_extension": ".py",
   "mimetype": "text/x-python",
   "name": "python",
   "nbconvert_exporter": "python",
   "pygments_lexer": "ipython3",
   "version": "3.6.4"
  }
 },
 "nbformat": 4,
 "nbformat_minor": 2
}
