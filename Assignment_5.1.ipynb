{
 "cells": [
  {
   "cell_type": "code",
   "execution_count": null,
   "metadata": {},
   "outputs": [],
   "source": [
    "num = 5\n",
    "den = 0\n",
    "try:\n",
    "    output =(num/den)\n",
    "except:\n",
    "        if((den ==0) & (num !=0)):\n",
    "            print(\"A number cannot be divided by zero\")\n",
    "            print(\"Value = Infinity \")\n",
    "        if((den==0) & (num==0)):\n",
    "            print(\"A number cannot be divided by zero\")\n",
    "            print(\"Value = Undefined \")\n",
    "else:\n",
    "     print('Value = %d'%output)"
   ]
  }
 ],
 "metadata": {
  "kernelspec": {
   "display_name": "Python 3",
   "language": "python",
   "name": "python3"
  },
  "language_info": {
   "codemirror_mode": {
    "name": "ipython",
    "version": 3
   },
   "file_extension": ".py",
   "mimetype": "text/x-python",
   "name": "python",
   "nbconvert_exporter": "python",
   "pygments_lexer": "ipython3",
   "version": "3.6.4"
  }
 },
 "nbformat": 4,
 "nbformat_minor": 2
}
