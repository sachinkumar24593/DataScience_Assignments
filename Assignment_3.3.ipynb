{
 "cells": [
  {
   "cell_type": "code",
   "execution_count": 6,
   "metadata": {},
   "outputs": [
    {
     "name": "stdout",
     "output_type": "stream",
     "text": [
      "Longest word = CCCCCCC\n"
     ]
    }
   ],
   "source": [
    "def longestWord(inlist):\n",
    "    val = len(inlist)\n",
    "    i=0\n",
    "    for x in range(0,val):\n",
    "        if len(inlist[x])>i:\n",
    "            i = len(inlist[x])\n",
    "            j = x\n",
    "    return inlist[j]\n",
    "\n",
    "list1 = ['A', 'BB', 'CCCCCCC','DDDD','EEE']\n",
    "list2 = ['Sachin','Kumar','Acadgild','Data','Science']\n",
    "print(\"Longest word = %s\"%longestWord(list1))\n",
    "print(print(\"Longest word = %s\"%longestWord(list2)))"
   ]
  },
  {
   "cell_type": "code",
   "execution_count": null,
   "metadata": {},
   "outputs": [],
   "source": []
  }
 ],
 "metadata": {
  "kernelspec": {
   "display_name": "Python 3",
   "language": "python",
   "name": "python3"
  },
  "language_info": {
   "codemirror_mode": {
    "name": "ipython",
    "version": 3
   },
   "file_extension": ".py",
   "mimetype": "text/x-python",
   "name": "python",
   "nbconvert_exporter": "python",
   "pygments_lexer": "ipython3",
   "version": "3.6.4"
  }
 },
 "nbformat": 4,
 "nbformat_minor": 2
}
