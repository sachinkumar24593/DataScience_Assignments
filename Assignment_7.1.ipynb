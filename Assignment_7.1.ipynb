{
 "cells": [
  {
   "cell_type": "code",
   "execution_count": 5,
   "metadata": {},
   "outputs": [
    {
     "name": "stdout",
     "output_type": "stream",
     "text": [
      "[5.0, 4.666666666666667, 5.666666666666667, 6.666666666666667, 9.666666666666666, 28.666666666666668, 49.333333333333336, 72.66666666666667, 84.0, 93.33333333333333, 116.33333333333333]\n"
     ]
    }
   ],
   "source": [
    "output_list =[]\n",
    "input_list = [3,5,7,2,8,10,11,65,72,81,99,100,150]\n",
    "len_input = len(input_list)\n",
    "window = 3\n",
    "i =0\n",
    "j = window\n",
    "k =0\n",
    "for x in range((len_input-window)+1):\n",
    "    temp = input_list[i:j:1]\n",
    "    for m in temp:\n",
    "        k = k+m\n",
    "    output_list.append(k/window)\n",
    "    i = i+1\n",
    "    j=j+1\n",
    "    k =0\n",
    "print(output_list)"
   ]
  },
  {
   "cell_type": "code",
   "execution_count": null,
   "metadata": {},
   "outputs": [],
   "source": []
  }
 ],
 "metadata": {
  "kernelspec": {
   "display_name": "Python 3",
   "language": "python",
   "name": "python3"
  },
  "language_info": {
   "codemirror_mode": {
    "name": "ipython",
    "version": 3
   },
   "file_extension": ".py",
   "mimetype": "text/x-python",
   "name": "python",
   "nbconvert_exporter": "python",
   "pygments_lexer": "ipython3",
   "version": "3.6.4"
  }
 },
 "nbformat": 4,
 "nbformat_minor": 2
}
