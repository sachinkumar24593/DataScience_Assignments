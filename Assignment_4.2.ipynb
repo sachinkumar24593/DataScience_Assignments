{
 "cells": [
  {
   "cell_type": "code",
   "execution_count": 16,
   "metadata": {},
   "outputs": [
    {
     "name": "stdout",
     "output_type": "stream",
     "text": [
      "[1, 2, 3, 4, 6, 8]\n"
     ]
    }
   ],
   "source": [
    "def lengthfinder(in_list):\n",
    "    length_list = []\n",
    "    for x in in_list:\n",
    "        length_list.append(len(x))\n",
    "    return length_list\n",
    "in_list = ['a','bb','ccc','dddd','Sachin','Acadgild']\n",
    "print(lengthfinder(in_list))"
   ]
  },
  {
   "cell_type": "code",
   "execution_count": 17,
   "metadata": {},
   "outputs": [
    {
     "name": "stdout",
     "output_type": "stream",
     "text": [
      "Enter a letter:s\n",
      "False\n"
     ]
    }
   ],
   "source": [
    "def vowelfinder(val):\n",
    "    a=0;\n",
    "    if(len(val)==1):\n",
    "        temp =['a','e','i','o','u']\n",
    "        for x in temp:\n",
    "            if(val==x):\n",
    "                return True\n",
    "                break\n",
    "            else:\n",
    "                a = a+1\n",
    "    if(a==5):\n",
    "        return False\n",
    "    else:\n",
    "        return False\n",
    "        \n",
    "val = input(\"Enter a letter:\")\n",
    "print(\"%s\"%(vowelfinder(val)))\n",
    "\n"
   ]
  },
  {
   "cell_type": "code",
   "execution_count": null,
   "metadata": {},
   "outputs": [],
   "source": [
    "\n"
   ]
  },
  {
   "cell_type": "code",
   "execution_count": null,
   "metadata": {},
   "outputs": [],
   "source": []
  }
 ],
 "metadata": {
  "kernelspec": {
   "display_name": "Python 3",
   "language": "python",
   "name": "python3"
  },
  "language_info": {
   "codemirror_mode": {
    "name": "ipython",
    "version": 3
   },
   "file_extension": ".py",
   "mimetype": "text/x-python",
   "name": "python",
   "nbconvert_exporter": "python",
   "pygments_lexer": "ipython3",
   "version": "3.6.4"
  }
 },
 "nbformat": 4,
 "nbformat_minor": 2
}
