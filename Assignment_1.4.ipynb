{
 "cells": [
  {
   "cell_type": "code",
   "execution_count": 13,
   "metadata": {},
   "outputs": [
    {
     "name": "stdout",
     "output_type": "stream",
     "text": [
      "Diameter = 12 cm\n",
      "Volume of Sphere: 904.778684 cubic centimeter\n"
     ]
    }
   ],
   "source": [
    "\n",
    "diameter = 12\n",
    "radius =(diameter/2)\n",
    "volume = ((4/3)*(math.pi)*(math.pow(radius,3)))\n",
    "print(\"Diameter = %d cm\"%(diameter))\n",
    "print(\"Volume of Sphere: %f cubic centimeter\"%(volume))"
   ]
  },
  {
   "cell_type": "code",
   "execution_count": null,
   "metadata": {},
   "outputs": [],
   "source": []
  }
 ],
 "metadata": {
  "kernelspec": {
   "display_name": "Python 3",
   "language": "python",
   "name": "python3"
  },
  "language_info": {
   "codemirror_mode": {
    "name": "ipython",
    "version": 3
   },
   "file_extension": ".py",
   "mimetype": "text/x-python",
   "name": "python",
   "nbconvert_exporter": "python",
   "pygments_lexer": "ipython3",
   "version": "3.6.4"
  }
 },
 "nbformat": 4,
 "nbformat_minor": 2
}
