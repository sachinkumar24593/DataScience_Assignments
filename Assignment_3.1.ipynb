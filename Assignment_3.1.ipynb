{
 "cells": [
  {
   "cell_type": "code",
   "execution_count": null,
   "metadata": {},
   "outputs": [],
   "source": [
    " def myreduce(function,inlist):\n",
    "        if(len(inlist) == 1):\n",
    "            return inlist[0]\n",
    "        first = inlist[0]\n",
    "        for x in inlist[1:]:\n",
    "            second = x\n",
    "            result = function(first,second)\n",
    "            first = result\n",
    "        return first\n",
    "def function(first, second):\n",
    "    result = first+second\n",
    "    return result\n",
    "inlist = [1,2,3,4,5,6]\n",
    "inlist1 =[5]\n",
    "inlist2 = ['Sachin','kumar','Acad','Gild']\n",
    "output = myreduce(function,inlist)\n",
    "print(output)\n",
    "output = myreduce(function,inlist1)\n",
    "print(output)\n",
    "output = myreduce(function,inlist2)\n",
    "print(output)"
   ]
  }
 ],
 "metadata": {
  "kernelspec": {
   "display_name": "Python 3",
   "language": "python",
   "name": "python3"
  },
  "language_info": {
   "codemirror_mode": {
    "name": "ipython",
    "version": 3
   },
   "file_extension": ".py",
   "mimetype": "text/x-python",
   "name": "python",
   "nbconvert_exporter": "python",
   "pygments_lexer": "ipython3",
   "version": "3.6.4"
  }
 },
 "nbformat": 4,
 "nbformat_minor": 2
}
